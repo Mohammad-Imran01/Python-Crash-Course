{
 "cells": [
  {
   "cell_type": "code",
   "execution_count": 1,
   "id": "b5fa789f",
   "metadata": {},
   "outputs": [
    {
     "name": "stdout",
     "output_type": "stream",
     "text": [
      "6\n"
     ]
    }
   ],
   "source": [
    "a = 6\n",
    "print(a)"
   ]
  },
  {
   "cell_type": "code",
   "execution_count": 1,
   "id": "a6639a1f",
   "metadata": {},
   "outputs": [
    {
     "name": "stdout",
     "output_type": "stream",
     "text": [
      "Hello World!\n"
     ]
    }
   ],
   "source": [
    "message = 'Hello World!'\n",
    "print(message)"
   ]
  },
  {
   "cell_type": "code",
   "execution_count": 2,
   "id": "1a84e00b",
   "metadata": {},
   "outputs": [],
   "source": [
    "message = 'Hello Python crash course Students'"
   ]
  },
  {
   "cell_type": "code",
   "execution_count": 3,
   "id": "e385c30a",
   "metadata": {},
   "outputs": [
    {
     "name": "stdout",
     "output_type": "stream",
     "text": [
      "Hello Python crash course Students\n"
     ]
    }
   ],
   "source": [
    "print(message)"
   ]
  },
  {
   "cell_type": "code",
   "execution_count": 4,
   "id": "27e6b834",
   "metadata": {},
   "outputs": [
    {
     "name": "stdout",
     "output_type": "stream",
     "text": [
      "Python is Great \"Programming language\"\n",
      "It is name after 'Monty Python',Not snake Python.\n",
      "One of python's strength is its diverse and supportive community\n"
     ]
    }
   ],
   "source": [
    "print('Python is Great \"Programming language\"')\n",
    "print(\"It is name after 'Monty Python',Not snake Python.\")\n",
    "print(\"One of python's strength is its diverse and supportive community\")"
   ]
  },
  {
   "cell_type": "code",
   "execution_count": 5,
   "id": "9e2bc06c",
   "metadata": {},
   "outputs": [
    {
     "name": "stdout",
     "output_type": "stream",
     "text": [
      "Ada Lovelace\n"
     ]
    }
   ],
   "source": [
    "name = 'Ada lovelace'\n",
    "print(name.title())"
   ]
  },
  {
   "cell_type": "code",
   "execution_count": 6,
   "id": "8d186fa6",
   "metadata": {},
   "outputs": [
    {
     "name": "stdout",
     "output_type": "stream",
     "text": [
      "ada lovelace\n"
     ]
    }
   ],
   "source": [
    "name = 'Ada lovelace'\n",
    "print(name.lower())"
   ]
  },
  {
   "cell_type": "code",
   "execution_count": 7,
   "id": "0d233555",
   "metadata": {},
   "outputs": [
    {
     "name": "stdout",
     "output_type": "stream",
     "text": [
      "ADA LOVELACE\n"
     ]
    }
   ],
   "source": [
    "print(name.upper())"
   ]
  },
  {
   "cell_type": "code",
   "execution_count": 8,
   "id": "5de29243",
   "metadata": {},
   "outputs": [],
   "source": [
    "first_name = 'Ada'\n",
    "last_name = \"Lovelace\"\n",
    "full_name = first_name + \" \" + last_name"
   ]
  },
  {
   "cell_type": "code",
   "execution_count": 9,
   "id": "ca358f62",
   "metadata": {},
   "outputs": [
    {
     "name": "stdout",
     "output_type": "stream",
     "text": [
      "Ada Lovelace\n"
     ]
    }
   ],
   "source": [
    "print(full_name)"
   ]
  },
  {
   "cell_type": "code",
   "execution_count": 10,
   "id": "131c08d5",
   "metadata": {},
   "outputs": [
    {
     "name": "stdout",
     "output_type": "stream",
     "text": [
      "Ada Lovelace\n"
     ]
    }
   ],
   "source": [
    "print(first_name + \" \" + last_name)"
   ]
  },
  {
   "cell_type": "code",
   "execution_count": 12,
   "id": "33e457b7",
   "metadata": {},
   "outputs": [
    {
     "name": "stdout",
     "output_type": "stream",
     "text": [
      "Hello, man sup??.\n"
     ]
    }
   ],
   "source": [
    "print(\"Hello, \" + \"man\" + \" \" + \"sup??\" + \".\")"
   ]
  },
  {
   "cell_type": "code",
   "execution_count": 13,
   "id": "589ad913",
   "metadata": {},
   "outputs": [
    {
     "name": "stdout",
     "output_type": "stream",
     "text": [
      "Python\n"
     ]
    }
   ],
   "source": [
    "print(\"Python\")"
   ]
  },
  {
   "cell_type": "code",
   "execution_count": 14,
   "id": "a9b44526",
   "metadata": {},
   "outputs": [
    {
     "name": "stdout",
     "output_type": "stream",
     "text": [
      "\tPython\n"
     ]
    }
   ],
   "source": [
    "print(\"\\tPython\")"
   ]
  },
  {
   "cell_type": "code",
   "execution_count": 16,
   "id": "f80fa330",
   "metadata": {},
   "outputs": [
    {
     "name": "stdout",
     "output_type": "stream",
     "text": [
      "Languages:\n",
      "Python.\n",
      "Javasciprt.\n",
      "C++.\n"
     ]
    }
   ],
   "source": [
    "print(\"Languages:\\nPython.\\nJavasciprt.\\nC++.\")"
   ]
  },
  {
   "cell_type": "code",
   "execution_count": 18,
   "id": "f081a159",
   "metadata": {},
   "outputs": [
    {
     "name": "stdout",
     "output_type": "stream",
     "text": [
      "Languages:\n",
      "\tPython.\t\n",
      "\tJavascript.\n",
      "\tC++.\n",
      "\t\n"
     ]
    }
   ],
   "source": [
    "print(\"Languages:\\n\\tPython.\\t\\n\\tJavascript.\\n\\tC++.\\n\\t\")"
   ]
  },
  {
   "cell_type": "code",
   "execution_count": 5,
   "id": "d0924bc2",
   "metadata": {},
   "outputs": [
    {
     "name": "stdout",
     "output_type": "stream",
     "text": [
      "Twinkle, twinkle little star,\n",
      "\tHow i wonder what you are!\n",
      "\t\tup above the world so high,\n",
      "\t\tlike a diamond in the sky.\n",
      "Twinkle, twinkle, little star,\n",
      "\tHow i wonder what you are\n"
     ]
    }
   ],
   "source": [
    "print(\"Twinkle, twinkle little star,\\n\\tHow i wonder what you are!\\n\\t\\tup above the world so high,\\n\\t\\tlike a diamond in the sky.\")\n",
    "print(\"Twinkle, twinkle, little star,\\n\\tHow i wonder what you are\")"
   ]
  },
  {
   "cell_type": "code",
   "execution_count": 6,
   "id": "80f3fbbf",
   "metadata": {},
   "outputs": [
    {
     "name": "stdout",
     "output_type": "stream",
     "text": [
      "System version\n",
      "3.8.8 (default, Apr 13 2021, 15:08:03) [MSC v.1916 64 bit (AMD64)]\n",
      "System info\n",
      "sys.version_info(major=3, minor=8, micro=8, releaselevel='final', serial=0)\n"
     ]
    }
   ],
   "source": [
    "import sys\n",
    "print(\"System version\")\n",
    "print(sys.version)\n",
    "print(\"System info\")\n",
    "print(sys.version_info)"
   ]
  },
  {
   "cell_type": "code",
   "execution_count": 7,
   "id": "070dac0f",
   "metadata": {},
   "outputs": [
    {
     "name": "stdout",
     "output_type": "stream",
     "text": [
      "Current Date and Time :\n",
      "21-07-19  15:31:04\n"
     ]
    }
   ],
   "source": [
    "import datetime\n",
    "now = datetime.datetime.now()\n",
    "print (\"Current Date and Time :\")\n",
    "print(now.strftime(\"%y-%m-%d  %H:%M:%S\"))"
   ]
  },
  {
   "cell_type": "code",
   "execution_count": 21,
   "id": "111e50cf",
   "metadata": {},
   "outputs": [
    {
     "name": "stdout",
     "output_type": "stream",
     "text": [
      "Enter radius.5\n",
      "Area of circle with radius 5.0 is 78.53981633974483\n"
     ]
    }
   ],
   "source": [
    "from math import pi\n",
    "radius = float(input(\"Enter radius.\"))\n",
    "print (\"Area of circle with radius \" + str(radius) + \" is \" + str(pi*radius**2))\n"
   ]
  },
  {
   "cell_type": "code",
   "execution_count": 23,
   "id": "a1152a85",
   "metadata": {},
   "outputs": [
    {
     "name": "stdout",
     "output_type": "stream",
     "text": [
      "Enter radius of the circle : 5\n",
      "Area of the circle with radius 5.0 is 78.53981633974483\n"
     ]
    }
   ],
   "source": [
    "from math import pi\n",
    "r  = float(input(\"Enter radius of the circle : \"));\n",
    "print(\"Area of the circle with radius \" + str(r) + \" is \" + str(pi*r**2))"
   ]
  },
  {
   "cell_type": "code",
   "execution_count": 26,
   "id": "52b46cdf",
   "metadata": {},
   "outputs": [
    {
     "name": "stdout",
     "output_type": "stream",
     "text": [
      "Enter first name :iam\n",
      "Enter second name :imran\n",
      "iam imran\n"
     ]
    }
   ],
   "source": [
    "first_name = str(input(\"Enter first name :\"))\n",
    "last_name  = str(input(\"Enter second name :\"))\n",
    "full_name = first_name + \" \" + last_name\n",
    "print(full_name)"
   ]
  },
  {
   "cell_type": "code",
   "execution_count": 34,
   "id": "41b78fb6",
   "metadata": {},
   "outputs": [
    {
     "name": "stdout",
     "output_type": "stream",
     "text": [
      "Narmi Mai\n"
     ]
    }
   ],
   "source": [
    "print(full_name[-1::-1].title())"
   ]
  },
  {
   "cell_type": "code",
   "execution_count": 1,
   "id": "92206896",
   "metadata": {},
   "outputs": [
    {
     "data": {
      "text/plain": [
       "' Python '"
      ]
     },
     "execution_count": 1,
     "metadata": {},
     "output_type": "execute_result"
    }
   ],
   "source": [
    "w1 = \" Python \"\n",
    "w1"
   ]
  },
  {
   "cell_type": "code",
   "execution_count": 2,
   "id": "ebc40e82",
   "metadata": {},
   "outputs": [
    {
     "data": {
      "text/plain": [
       "'Python '"
      ]
     },
     "execution_count": 2,
     "metadata": {},
     "output_type": "execute_result"
    }
   ],
   "source": [
    "w1.lstrip()"
   ]
  },
  {
   "cell_type": "code",
   "execution_count": 3,
   "id": "11c47c56",
   "metadata": {},
   "outputs": [
    {
     "data": {
      "text/plain": [
       "' Python'"
      ]
     },
     "execution_count": 3,
     "metadata": {},
     "output_type": "execute_result"
    }
   ],
   "source": [
    "w1.rstrip()"
   ]
  },
  {
   "cell_type": "code",
   "execution_count": 4,
   "id": "959597b4",
   "metadata": {},
   "outputs": [
    {
     "data": {
      "text/plain": [
       "'Python'"
      ]
     },
     "execution_count": 4,
     "metadata": {},
     "output_type": "execute_result"
    }
   ],
   "source": [
    "w1.strip()"
   ]
  },
  {
   "cell_type": "code",
   "execution_count": 5,
   "id": "46dce13b",
   "metadata": {},
   "outputs": [
    {
     "data": {
      "text/plain": [
       "' Python '"
      ]
     },
     "execution_count": 5,
     "metadata": {},
     "output_type": "execute_result"
    }
   ],
   "source": [
    "w1"
   ]
  },
  {
   "cell_type": "code",
   "execution_count": 6,
   "id": "e36c9164",
   "metadata": {},
   "outputs": [],
   "source": [
    "w1 = w1.strip()"
   ]
  },
  {
   "cell_type": "code",
   "execution_count": 7,
   "id": "8912952d",
   "metadata": {},
   "outputs": [
    {
     "data": {
      "text/plain": [
       "'Python'"
      ]
     },
     "execution_count": 7,
     "metadata": {},
     "output_type": "execute_result"
    }
   ],
   "source": [
    "w1"
   ]
  },
  {
   "cell_type": "code",
   "execution_count": 7,
   "id": "66804ed0",
   "metadata": {},
   "outputs": [
    {
     "name": "stdout",
     "output_type": "stream",
     "text": [
      "\n",
      "\tAlbert Einstein Once said \"A person never made a mistake,\n",
      "\t never tried anything new.\"\n",
      "\n"
     ]
    }
   ],
   "source": [
    "famous_person = 'Albert Einstein ' # + 'Once said a person never made a mistake never tried anything new.'\n",
    "message = \"\\n\\t\" + famous_person + 'Once said \"A person never made a mistake,\\n\\t never tried anything new.\"\\n'\n",
    "print(message)"
   ]
  },
  {
   "cell_type": "code",
   "execution_count": 8,
   "id": "4b57b2e8",
   "metadata": {},
   "outputs": [
    {
     "name": "stdout",
     "output_type": "stream",
     "text": [
      "   mr     imran   \n"
     ]
    }
   ],
   "source": [
    "f = '   mr  '\n",
    "l = '   imran   '\n",
    "print(f + l)"
   ]
  },
  {
   "cell_type": "code",
   "execution_count": 15,
   "id": "020e51bb",
   "metadata": {},
   "outputs": [
    {
     "name": "stdout",
     "output_type": "stream",
     "text": [
      "mrimran   \n"
     ]
    }
   ],
   "source": [
    "print(f.rstrip().lstrip() + l.lstrip())"
   ]
  },
  {
   "cell_type": "code",
   "execution_count": 17,
   "id": "d4a48563",
   "metadata": {},
   "outputs": [
    {
     "data": {
      "text/plain": [
       "4"
      ]
     },
     "execution_count": 17,
     "metadata": {},
     "output_type": "execute_result"
    }
   ],
   "source": [
    "2+2\n",
    "#2*2\n"
   ]
  },
  {
   "cell_type": "markdown",
   "id": "386dd4fb",
   "metadata": {},
   "source": [
    "2+2\n"
   ]
  },
  {
   "cell_type": "code",
   "execution_count": 18,
   "id": "4d184343",
   "metadata": {},
   "outputs": [
    {
     "data": {
      "text/plain": [
       "4"
      ]
     },
     "execution_count": 18,
     "metadata": {},
     "output_type": "execute_result"
    }
   ],
   "source": [
    "2+2\n"
   ]
  },
  {
   "cell_type": "code",
   "execution_count": 19,
   "id": "e7392e56",
   "metadata": {},
   "outputs": [
    {
     "data": {
      "text/plain": [
       "2.2"
      ]
     },
     "execution_count": 19,
     "metadata": {},
     "output_type": "execute_result"
    }
   ],
   "source": [
    "2.0 + 0.2"
   ]
  },
  {
   "cell_type": "code",
   "execution_count": 20,
   "id": "b2c1307e",
   "metadata": {},
   "outputs": [
    {
     "data": {
      "text/plain": [
       "2.0"
      ]
     },
     "execution_count": 20,
     "metadata": {},
     "output_type": "execute_result"
    }
   ],
   "source": [
    "4/2\n"
   ]
  },
  {
   "cell_type": "code",
   "execution_count": 21,
   "id": "854291bc",
   "metadata": {},
   "outputs": [
    {
     "data": {
      "text/plain": [
       "1.0"
      ]
     },
     "execution_count": 21,
     "metadata": {},
     "output_type": "execute_result"
    }
   ],
   "source": [
    "2/2"
   ]
  },
  {
   "cell_type": "code",
   "execution_count": 22,
   "id": "d9503500",
   "metadata": {},
   "outputs": [],
   "source": [
    "univ_age = 14_000_000_001"
   ]
  },
  {
   "cell_type": "code",
   "execution_count": 23,
   "id": "bedaeee7",
   "metadata": {},
   "outputs": [
    {
     "data": {
      "text/plain": [
       "14000000001"
      ]
     },
     "execution_count": 23,
     "metadata": {},
     "output_type": "execute_result"
    }
   ],
   "source": [
    "univ_age"
   ]
  },
  {
   "cell_type": "code",
   "execution_count": 24,
   "id": "ab6d2232",
   "metadata": {},
   "outputs": [
    {
     "data": {
      "text/plain": [
       "14000000001"
      ]
     },
     "execution_count": 24,
     "metadata": {},
     "output_type": "execute_result"
    }
   ],
   "source": [
    "univ_age"
   ]
  },
  {
   "cell_type": "code",
   "execution_count": 25,
   "id": "db2b473c",
   "metadata": {},
   "outputs": [],
   "source": [
    "x,y,z = 11.22,33, 440\n"
   ]
  },
  {
   "cell_type": "code",
   "execution_count": 26,
   "id": "cf49f0fc",
   "metadata": {},
   "outputs": [
    {
     "data": {
      "text/plain": [
       "11.22"
      ]
     },
     "execution_count": 26,
     "metadata": {},
     "output_type": "execute_result"
    }
   ],
   "source": [
    "x"
   ]
  },
  {
   "cell_type": "code",
   "execution_count": 27,
   "id": "d6475073",
   "metadata": {},
   "outputs": [
    {
     "data": {
      "text/plain": [
       "33"
      ]
     },
     "execution_count": 27,
     "metadata": {},
     "output_type": "execute_result"
    }
   ],
   "source": [
    "y"
   ]
  },
  {
   "cell_type": "code",
   "execution_count": 28,
   "id": "aae8fb49",
   "metadata": {},
   "outputs": [
    {
     "data": {
      "text/plain": [
       "440"
      ]
     },
     "execution_count": 28,
     "metadata": {},
     "output_type": "execute_result"
    }
   ],
   "source": [
    "z"
   ]
  },
  {
   "cell_type": "code",
   "execution_count": 29,
   "id": "618bcb65",
   "metadata": {},
   "outputs": [],
   "source": [
    "NAME_MY  = \"Imran\""
   ]
  },
  {
   "cell_type": "code",
   "execution_count": 30,
   "id": "0056051b",
   "metadata": {},
   "outputs": [
    {
     "data": {
      "text/plain": [
       "'Imran'"
      ]
     },
     "execution_count": 30,
     "metadata": {},
     "output_type": "execute_result"
    }
   ],
   "source": [
    "NAME_MY"
   ]
  },
  {
   "cell_type": "code",
   "execution_count": 31,
   "id": "a28dc7cb",
   "metadata": {},
   "outputs": [],
   "source": [
    "NAME_MY = \"you\""
   ]
  },
  {
   "cell_type": "code",
   "execution_count": 32,
   "id": "2c5f8a10",
   "metadata": {},
   "outputs": [
    {
     "data": {
      "text/plain": [
       "'you'"
      ]
     },
     "execution_count": 32,
     "metadata": {},
     "output_type": "execute_result"
    }
   ],
   "source": [
    "NAME_MY"
   ]
  },
  {
   "cell_type": "code",
   "execution_count": 34,
   "id": "d69af0b4",
   "metadata": {},
   "outputs": [
    {
     "ename": "TypeError",
     "evalue": "unsupported operand type(s) for +: 'int' and 'str'",
     "output_type": "error",
     "traceback": [
      "\u001b[1;31m---------------------------------------------------------------------------\u001b[0m",
      "\u001b[1;31mTypeError\u001b[0m                                 Traceback (most recent call last)",
      "\u001b[1;32m<ipython-input-34-2a676e88305c>\u001b[0m in \u001b[0;36m<module>\u001b[1;34m\u001b[0m\n\u001b[1;32m----> 1\u001b[1;33m \u001b[0mprint\u001b[0m\u001b[1;33m(\u001b[0m \u001b[1;36m2\u001b[0m\u001b[1;33m+\u001b[0m\u001b[1;36m6\u001b[0m \u001b[1;33m+\u001b[0m\u001b[1;34m\"\\n\"\u001b[0m\u001b[1;33m+\u001b[0m \u001b[1;36m4\u001b[0m\u001b[1;33m*\u001b[0m\u001b[1;36m2\u001b[0m \u001b[1;33m+\u001b[0m\u001b[1;34m\"\\n\"\u001b[0m\u001b[1;33m+\u001b[0m \u001b[1;36m10\u001b[0m\u001b[1;33m-\u001b[0m\u001b[1;36m2\u001b[0m \u001b[1;33m+\u001b[0m\u001b[1;34m\"\\n\"\u001b[0m\u001b[1;33m+\u001b[0m \u001b[1;33m(\u001b[0m\u001b[1;36m2\u001b[0m\u001b[1;33m**\u001b[0m\u001b[1;36m2\u001b[0m\u001b[1;33m)\u001b[0m\u001b[1;33m*\u001b[0m\u001b[1;36m2\u001b[0m\u001b[1;33m)\u001b[0m\u001b[1;33m\u001b[0m\u001b[1;33m\u001b[0m\u001b[0m\n\u001b[0m",
      "\u001b[1;31mTypeError\u001b[0m: unsupported operand type(s) for +: 'int' and 'str'"
     ]
    }
   ],
   "source": [
    "print( 2+6 +\"\\n\"+ 4*2 +\"\\n\"+ 10-2 +\"\\n\"+ (2**2)*2)"
   ]
  },
  {
   "cell_type": "code",
   "execution_count": 1,
   "id": "6106f809",
   "metadata": {},
   "outputs": [
    {
     "name": "stdout",
     "output_type": "stream",
     "text": [
      "My fav num is 100\n"
     ]
    }
   ],
   "source": [
    "#Assign your favourite num to num then print it with string \n",
    "# using f'string\n",
    "num = 100\n",
    "print(f'My fav num is {num}')"
   ]
  },
  {
   "cell_type": "code",
   "execution_count": 2,
   "id": "55cfd951",
   "metadata": {},
   "outputs": [
    {
     "name": "stdout",
     "output_type": "stream",
     "text": [
      "The Zen of Python, by Tim Peters\n",
      "\n",
      "Beautiful is better than ugly.\n",
      "Explicit is better than implicit.\n",
      "Simple is better than complex.\n",
      "Complex is better than complicated.\n",
      "Flat is better than nested.\n",
      "Sparse is better than dense.\n",
      "Readability counts.\n",
      "Special cases aren't special enough to break the rules.\n",
      "Although practicality beats purity.\n",
      "Errors should never pass silently.\n",
      "Unless explicitly silenced.\n",
      "In the face of ambiguity, refuse the temptation to guess.\n",
      "There should be one-- and preferably only one --obvious way to do it.\n",
      "Although that way may not be obvious at first unless you're Dutch.\n",
      "Now is better than never.\n",
      "Although never is often better than *right* now.\n",
      "If the implementation is hard to explain, it's a bad idea.\n",
      "If the implementation is easy to explain, it may be a good idea.\n",
      "Namespaces are one honking great idea -- let's do more of those!\n"
     ]
    }
   ],
   "source": [
    "import this"
   ]
  },
  {
   "cell_type": "code",
   "execution_count": 3,
   "id": "6f0fbf9b",
   "metadata": {},
   "outputs": [],
   "source": [
    "# Alist is a collection of items in a prticular items.\n",
    "bicycles = [\"Arpan\",'hello','hercules','Hulk']"
   ]
  },
  {
   "cell_type": "code",
   "execution_count": 4,
   "id": "3854a86d",
   "metadata": {},
   "outputs": [
    {
     "data": {
      "text/plain": [
       "['Arpan', 'hello', 'hercules', 'Hulk']"
      ]
     },
     "execution_count": 4,
     "metadata": {},
     "output_type": "execute_result"
    }
   ],
   "source": [
    "bicycles"
   ]
  },
  {
   "cell_type": "code",
   "execution_count": 5,
   "id": "3df46c9f",
   "metadata": {},
   "outputs": [
    {
     "data": {
      "text/plain": [
       "'Arpan'"
      ]
     },
     "execution_count": 5,
     "metadata": {},
     "output_type": "execute_result"
    }
   ],
   "source": [
    "bicycles[0].title().strip()"
   ]
  },
  {
   "cell_type": "code",
   "execution_count": 7,
   "id": "7ce9466e",
   "metadata": {},
   "outputs": [
    {
     "name": "stdout",
     "output_type": "stream",
     "text": [
      "Ehsan\n",
      "Faiz\n",
      "Chhotu\n",
      "Motu\n",
      "Barku\n"
     ]
    }
   ],
   "source": [
    "freinds = [\"Faiz\",\"Chhotu\",\"Motu\",\"Barku\",\"Ehsan\"]\n",
    "print(freinds[-1].title())\n",
    "print(freinds[0].title())\n",
    "print(freinds[1].title())\n",
    "print(freinds[2].title())\n",
    "print(freinds[-2].title())"
   ]
  },
  {
   "cell_type": "code",
   "execution_count": 9,
   "id": "6b9575d4",
   "metadata": {},
   "outputs": [],
   "source": [
    "message1 = f'HEllo man, {(freinds[-1].title())}'\n",
    "message2 = f'HEllo man, {(freinds[-2].title())}'\n",
    "message3 = f'HEllo man, {(freinds[-3].title())}'\n",
    "message4 = f'HEllo man, {(freinds[-4].title())}'\n",
    "message5 = f'HEllo man, {(freinds[-5].title())}'"
   ]
  },
  {
   "cell_type": "code",
   "execution_count": 10,
   "id": "d992e154",
   "metadata": {},
   "outputs": [
    {
     "name": "stdout",
     "output_type": "stream",
     "text": [
      "HEllo man, Ehsan\n",
      "HEllo man, Barku\n",
      "HEllo man, Motu\n",
      "HEllo man, Chhotu\n",
      "HEllo man, Faiz\n"
     ]
    }
   ],
   "source": [
    "print(message1)\n",
    "print(message2)\n",
    "print(message3)\n",
    "print(message4)\n",
    "print(message5)"
   ]
  },
  {
   "cell_type": "code",
   "execution_count": 13,
   "id": "b849b3ad",
   "metadata": {},
   "outputs": [
    {
     "data": {
      "text/plain": [
       "[]"
      ]
     },
     "execution_count": 13,
     "metadata": {},
     "output_type": "execute_result"
    }
   ],
   "source": [
    "freinds[:0]"
   ]
  },
  {
   "cell_type": "code",
   "execution_count": 20,
   "id": "dd76d489",
   "metadata": {},
   "outputs": [],
   "source": [
    "fvr8_mcycle = [\"Yesterday i was moving around the city.\",\"Guess what! i saw a brand new lembodgeene\",\"But that wasn't so good because of a ungood color\"]"
   ]
  },
  {
   "cell_type": "code",
   "execution_count": 21,
   "id": "a8b84f61",
   "metadata": {},
   "outputs": [
    {
     "data": {
      "text/plain": [
       "['Yesterday i was moving around the city.',\n",
       " 'Guess what! i saw a brand new lembodgeene',\n",
       " \"But that wasn't so good because of a ungood color\"]"
      ]
     },
     "execution_count": 21,
     "metadata": {},
     "output_type": "execute_result"
    }
   ],
   "source": [
    "fvr8_mcycle\n"
   ]
  },
  {
   "cell_type": "code",
   "execution_count": 22,
   "id": "4c6dc5c7",
   "metadata": {},
   "outputs": [],
   "source": [
    "fvr8_mcycle[0] = 'Well man'"
   ]
  },
  {
   "cell_type": "code",
   "execution_count": 23,
   "id": "3dcc311b",
   "metadata": {},
   "outputs": [
    {
     "data": {
      "text/plain": [
       "['Well man',\n",
       " 'Guess what! i saw a brand new lembodgeene',\n",
       " \"But that wasn't so good because of a ungood color\"]"
      ]
     },
     "execution_count": 23,
     "metadata": {},
     "output_type": "execute_result"
    }
   ],
   "source": [
    "fvr8_mcycle"
   ]
  },
  {
   "cell_type": "code",
   "execution_count": 36,
   "id": "f76cb9be",
   "metadata": {},
   "outputs": [
    {
     "ename": "AttributeError",
     "evalue": "'str' object has no attribute 'append'",
     "output_type": "error",
     "traceback": [
      "\u001b[1;31m---------------------------------------------------------------------------\u001b[0m",
      "\u001b[1;31mAttributeError\u001b[0m                            Traceback (most recent call last)",
      "\u001b[1;32m<ipython-input-36-2534519e0a19>\u001b[0m in \u001b[0;36m<module>\u001b[1;34m\u001b[0m\n\u001b[1;32m----> 1\u001b[1;33m \u001b[0mfvr8_mcycle\u001b[0m\u001b[1;33m[\u001b[0m\u001b[1;36m2\u001b[0m\u001b[1;33m]\u001b[0m\u001b[1;33m.\u001b[0m\u001b[0mappend\u001b[0m\u001b[1;33m(\u001b[0m\u001b[1;36m1\u001b[0m\u001b[1;33m)\u001b[0m\u001b[1;33m\u001b[0m\u001b[1;33m\u001b[0m\u001b[0m\n\u001b[0m",
      "\u001b[1;31mAttributeError\u001b[0m: 'str' object has no attribute 'append'"
     ]
    }
   ],
   "source": [
    "fvr8_mcycle[2].append(1)"
   ]
  },
  {
   "cell_type": "code",
   "execution_count": 37,
   "id": "8a8e7e04",
   "metadata": {},
   "outputs": [
    {
     "data": {
      "text/plain": [
       "['Well man',\n",
       " 'Guess what! i saw a brand new lembodgeene',\n",
       " \"But that wasn't so good because of a ungood color\",\n",
       " 1,\n",
       " '1',\n",
       " '1',\n",
       " '1']"
      ]
     },
     "execution_count": 37,
     "metadata": {},
     "output_type": "execute_result"
    }
   ],
   "source": [
    "fvr8_mcycle"
   ]
  },
  {
   "cell_type": "code",
   "execution_count": 41,
   "id": "97be5712",
   "metadata": {},
   "outputs": [],
   "source": [
    "my_list = []"
   ]
  },
  {
   "cell_type": "code",
   "execution_count": 44,
   "id": "34684750",
   "metadata": {},
   "outputs": [],
   "source": [
    "my_list.append(\"Hero\")"
   ]
  },
  {
   "cell_type": "code",
   "execution_count": 45,
   "id": "a181efc1",
   "metadata": {},
   "outputs": [
    {
     "data": {
      "text/plain": [
       "'Hero'"
      ]
     },
     "execution_count": 45,
     "metadata": {},
     "output_type": "execute_result"
    }
   ],
   "source": [
    "my_list[0]"
   ]
  },
  {
   "cell_type": "code",
   "execution_count": 46,
   "id": "1b425b9b",
   "metadata": {},
   "outputs": [],
   "source": [
    "my_list.append(\"YAMAHA\")\n",
    "my_list.append(\"HERO\")\n",
    "my_list.append(\"PULSAR\")"
   ]
  },
  {
   "cell_type": "code",
   "execution_count": 47,
   "id": "b66f13a6",
   "metadata": {},
   "outputs": [
    {
     "data": {
      "text/plain": [
       "['Hero', 'YAMAHA', 'HERO', 'PULSAR']"
      ]
     },
     "execution_count": 47,
     "metadata": {},
     "output_type": "execute_result"
    }
   ],
   "source": [
    "my_list"
   ]
  },
  {
   "cell_type": "code",
   "execution_count": 48,
   "id": "41ec8840",
   "metadata": {},
   "outputs": [],
   "source": [
    "my_list.insert(0,\"CBR\")"
   ]
  },
  {
   "cell_type": "code",
   "execution_count": 49,
   "id": "2daa7f63",
   "metadata": {},
   "outputs": [
    {
     "data": {
      "text/plain": [
       "['CBR', 'Hero', 'YAMAHA', 'HERO', 'PULSAR']"
      ]
     },
     "execution_count": 49,
     "metadata": {},
     "output_type": "execute_result"
    }
   ],
   "source": [
    "my_list\n"
   ]
  },
  {
   "cell_type": "code",
   "execution_count": 61,
   "id": "35d0d5f8",
   "metadata": {},
   "outputs": [
    {
     "ename": "TypeError",
     "evalue": "list indices must be integers or slices, not str",
     "output_type": "error",
     "traceback": [
      "\u001b[1;31m---------------------------------------------------------------------------\u001b[0m",
      "\u001b[1;31mTypeError\u001b[0m                                 Traceback (most recent call last)",
      "\u001b[1;32m<ipython-input-61-56e36c17fb67>\u001b[0m in \u001b[0;36m<module>\u001b[1;34m\u001b[0m\n\u001b[0;32m      1\u001b[0m \u001b[0mmy_list\u001b[0m\u001b[1;33m\u001b[0m\u001b[1;33m\u001b[0m\u001b[0m\n\u001b[1;32m----> 2\u001b[1;33m \u001b[1;32mdel\u001b[0m \u001b[0mmy_list\u001b[0m\u001b[1;33m[\u001b[0m\u001b[1;34m'CBR'\u001b[0m\u001b[1;33m]\u001b[0m\u001b[1;33m\u001b[0m\u001b[1;33m\u001b[0m\u001b[0m\n\u001b[0m",
      "\u001b[1;31mTypeError\u001b[0m: list indices must be integers or slices, not str"
     ]
    }
   ],
   "source": [
    "my_list\n",
    "del my_list['CBR']"
   ]
  },
  {
   "cell_type": "code",
   "execution_count": 62,
   "id": "00b77102",
   "metadata": {},
   "outputs": [
    {
     "data": {
      "text/plain": [
       "[]"
      ]
     },
     "execution_count": 62,
     "metadata": {},
     "output_type": "execute_result"
    }
   ],
   "source": [
    "my_list\n"
   ]
  },
  {
   "cell_type": "code",
   "execution_count": 27,
   "id": "985dc349",
   "metadata": {},
   "outputs": [
    {
     "data": {
      "text/plain": [
       "['Hello', 'Man', 'What', 'are', 'you', 'doin']"
      ]
     },
     "execution_count": 27,
     "metadata": {},
     "output_type": "execute_result"
    }
   ],
   "source": [
    "motor = ['Hello' , 'Man' , 'What' , 'are' , 'you' , 'doin']\n",
    "motor"
   ]
  },
  {
   "cell_type": "code",
   "execution_count": 28,
   "id": "d1c301a3",
   "metadata": {},
   "outputs": [],
   "source": [
    "del motor[-1]"
   ]
  },
  {
   "cell_type": "code",
   "execution_count": 29,
   "id": "2147cf88",
   "metadata": {},
   "outputs": [
    {
     "data": {
      "text/plain": [
       "['Hello', 'Man', 'What', 'are', 'you']"
      ]
     },
     "execution_count": 29,
     "metadata": {},
     "output_type": "execute_result"
    }
   ],
   "source": [
    "motor\n"
   ]
  },
  {
   "cell_type": "code",
   "execution_count": 30,
   "id": "a5909bd5",
   "metadata": {},
   "outputs": [],
   "source": [
    "motor.append(\"hello\")"
   ]
  },
  {
   "cell_type": "raw",
   "id": "f589268e",
   "metadata": {},
   "source": [
    "motor"
   ]
  },
  {
   "cell_type": "code",
   "execution_count": 39,
   "id": "ac2b129a",
   "metadata": {},
   "outputs": [
    {
     "data": {
      "text/plain": [
       "['Ello', 'Ello', 'Hello', 'Hello', 'Man', 'What', 'are', 'you', 'hello']"
      ]
     },
     "execution_count": 39,
     "metadata": {},
     "output_type": "execute_result"
    }
   ],
   "source": [
    "motor"
   ]
  },
  {
   "cell_type": "code",
   "execution_count": 40,
   "id": "234f5757",
   "metadata": {},
   "outputs": [],
   "source": [
    "motor.insert(0,'ello'.title())"
   ]
  },
  {
   "cell_type": "raw",
   "id": "3bd440c4",
   "metadata": {},
   "source": [
    "motor"
   ]
  },
  {
   "cell_type": "code",
   "execution_count": 41,
   "id": "2526ff25",
   "metadata": {},
   "outputs": [
    {
     "data": {
      "text/plain": [
       "['Ello',\n",
       " 'Ello',\n",
       " 'Ello',\n",
       " 'Hello',\n",
       " 'Hello',\n",
       " 'Man',\n",
       " 'What',\n",
       " 'are',\n",
       " 'you',\n",
       " 'hello']"
      ]
     },
     "execution_count": 41,
     "metadata": {},
     "output_type": "execute_result"
    }
   ],
   "source": [
    "motor"
   ]
  },
  {
   "cell_type": "code",
   "execution_count": 42,
   "id": "9852f597",
   "metadata": {},
   "outputs": [
    {
     "data": {
      "text/plain": [
       "'hello'"
      ]
     },
     "execution_count": 42,
     "metadata": {},
     "output_type": "execute_result"
    }
   ],
   "source": [
    "motor.pop()"
   ]
  },
  {
   "cell_type": "code",
   "execution_count": 43,
   "id": "fba4795f",
   "metadata": {},
   "outputs": [
    {
     "data": {
      "text/plain": [
       "['Ello', 'Ello', 'Ello', 'Hello', 'Hello', 'Man', 'What', 'are', 'you']"
      ]
     },
     "execution_count": 43,
     "metadata": {},
     "output_type": "execute_result"
    }
   ],
   "source": [
    "motor\n"
   ]
  },
  {
   "cell_type": "code",
   "execution_count": 44,
   "id": "550cf7cf",
   "metadata": {},
   "outputs": [],
   "source": [
    "del motor[0:3]"
   ]
  },
  {
   "cell_type": "code",
   "execution_count": 45,
   "id": "ae03b7b9",
   "metadata": {},
   "outputs": [
    {
     "data": {
      "text/plain": [
       "['Hello', 'Hello', 'Man', 'What', 'are', 'you']"
      ]
     },
     "execution_count": 45,
     "metadata": {},
     "output_type": "execute_result"
    }
   ],
   "source": [
    "motor"
   ]
  },
  {
   "cell_type": "code",
   "execution_count": 52,
   "id": "c4f0e2e6",
   "metadata": {},
   "outputs": [
    {
     "ename": "ModuleNotFoundError",
     "evalue": "No module named 'dumpy'",
     "output_type": "error",
     "traceback": [
      "\u001b[1;31m---------------------------------------------------------------------------\u001b[0m",
      "\u001b[1;31mModuleNotFoundError\u001b[0m                       Traceback (most recent call last)",
      "\u001b[1;32m<ipython-input-52-5e9f674f6e50>\u001b[0m in \u001b[0;36m<module>\u001b[1;34m\u001b[0m\n\u001b[1;32m----> 1\u001b[1;33m \u001b[1;32mimport\u001b[0m \u001b[0mdumpy\u001b[0m \u001b[1;32mas\u001b[0m \u001b[0mnp\u001b[0m\u001b[1;33m\u001b[0m\u001b[1;33m\u001b[0m\u001b[0m\n\u001b[0m",
      "\u001b[1;31mModuleNotFoundError\u001b[0m: No module named 'dumpy'"
     ]
    }
   ],
   "source": [
    "impt dumpy as np"
   ]
  },
  {
   "cell_type": "code",
   "execution_count": 53,
   "id": "7012334e",
   "metadata": {},
   "outputs": [],
   "source": [
    "motor = ['Hero' , 'Honda' , 'Bajaj' , 'Yamaha' , 'Ducati']"
   ]
  },
  {
   "cell_type": "code",
   "execution_count": 54,
   "id": "85a7ee0f",
   "metadata": {},
   "outputs": [
    {
     "data": {
      "text/plain": [
       "['Hero', 'Honda', 'Bajaj', 'Yamaha', 'Ducati']"
      ]
     },
     "execution_count": 54,
     "metadata": {},
     "output_type": "execute_result"
    }
   ],
   "source": [
    "motor"
   ]
  },
  {
   "cell_type": "code",
   "execution_count": 55,
   "id": "83592496",
   "metadata": {},
   "outputs": [],
   "source": [
    "motor.append('Mahindra')"
   ]
  },
  {
   "cell_type": "code",
   "execution_count": 56,
   "id": "de1e512f",
   "metadata": {},
   "outputs": [
    {
     "data": {
      "text/plain": [
       "['Hero', 'Honda', 'Bajaj', 'Yamaha', 'Ducati', 'Mahindra']"
      ]
     },
     "execution_count": 56,
     "metadata": {},
     "output_type": "execute_result"
    }
   ],
   "source": [
    "motor"
   ]
  },
  {
   "cell_type": "code",
   "execution_count": 57,
   "id": "3fab3473",
   "metadata": {},
   "outputs": [],
   "source": [
    "motor.insert(3,'Wheel')"
   ]
  },
  {
   "cell_type": "code",
   "execution_count": 58,
   "id": "ea339449",
   "metadata": {},
   "outputs": [
    {
     "data": {
      "text/plain": [
       "['Hero', 'Honda', 'Bajaj', 'Wheel', 'Yamaha', 'Ducati', 'Mahindra']"
      ]
     },
     "execution_count": 58,
     "metadata": {},
     "output_type": "execute_result"
    }
   ],
   "source": [
    "motor"
   ]
  },
  {
   "cell_type": "code",
   "execution_count": 65,
   "id": "abbbe04a",
   "metadata": {},
   "outputs": [],
   "source": [
    "del motor[0]"
   ]
  },
  {
   "cell_type": "code",
   "execution_count": 66,
   "id": "cacedfee",
   "metadata": {},
   "outputs": [
    {
     "data": {
      "text/plain": [
       "['Yamaha', 'Ducati', 'Mahindra']"
      ]
     },
     "execution_count": 66,
     "metadata": {},
     "output_type": "execute_result"
    }
   ],
   "source": [
    "motor"
   ]
  },
  {
   "cell_type": "code",
   "execution_count": 67,
   "id": "fd32204c",
   "metadata": {},
   "outputs": [],
   "source": [
    "dinner = ['me' , 'myself' , 'i']\n"
   ]
  },
  {
   "cell_type": "code",
   "execution_count": 68,
   "id": "31a0bd62",
   "metadata": {},
   "outputs": [
    {
     "data": {
      "text/plain": [
       "['me', 'myself', 'i']"
      ]
     },
     "execution_count": 68,
     "metadata": {},
     "output_type": "execute_result"
    }
   ],
   "source": [
    "dinner"
   ]
  },
  {
   "cell_type": "code",
   "execution_count": 70,
   "id": "3f991d14",
   "metadata": {},
   "outputs": [
    {
     "name": "stdout",
     "output_type": "stream",
     "text": [
      "Hello me you are invited for the dinner\n",
      "Hello myself yor are also invited\n",
      "Hello OMG i even you are also invited\n"
     ]
    }
   ],
   "source": [
    "print(f'Hello {dinner[0]} you are invited for the dinner')\n",
    "print(f'Hello {dinner[1]} yor are also invited')\n",
    "print(f'Hello OMG {dinner[2]} even you are also invited')"
   ]
  },
  {
   "cell_type": "code",
   "execution_count": 71,
   "id": "a7209d77",
   "metadata": {},
   "outputs": [
    {
     "data": {
      "text/plain": [
       "['me', 'myself', 'i']"
      ]
     },
     "execution_count": 71,
     "metadata": {},
     "output_type": "execute_result"
    }
   ],
   "source": [
    "dinner\n"
   ]
  },
  {
   "cell_type": "code",
   "execution_count": 72,
   "id": "3749258b",
   "metadata": {},
   "outputs": [],
   "source": [
    "dinner[2] = 'us'"
   ]
  },
  {
   "cell_type": "code",
   "execution_count": 73,
   "id": "e3ce5952",
   "metadata": {},
   "outputs": [
    {
     "data": {
      "text/plain": [
       "['me', 'myself', 'us']"
      ]
     },
     "execution_count": 73,
     "metadata": {},
     "output_type": "execute_result"
    }
   ],
   "source": [
    "dinner"
   ]
  },
  {
   "cell_type": "code",
   "execution_count": 74,
   "id": "b9467e20",
   "metadata": {},
   "outputs": [
    {
     "name": "stdout",
     "output_type": "stream",
     "text": [
      "Hello me you are invited for the dinner\n",
      "Hello myself yor are also invited\n",
      "Hello OMG us even you are also invited\n"
     ]
    }
   ],
   "source": [
    "print(f'Hello {dinner[0]} you are invited for the dinner')\n",
    "print(f'Hello {dinner[1]} yor are also invited')\n",
    "print(f'Hello OMG {dinner[2]} even you are also invited')"
   ]
  },
  {
   "cell_type": "code",
   "execution_count": 75,
   "id": "b3cf52ff",
   "metadata": {},
   "outputs": [
    {
     "name": "stdout",
     "output_type": "stream",
     "text": [
      "Hello me you are invited for the dinner\n",
      "Hello myself yor are also invited\n",
      "us even you were invited but its to belive you are not coming\n"
     ]
    }
   ],
   "source": [
    "print(f'Hello {dinner[0]} you are invited for the dinner')\n",
    "print(f'Hello {dinner[1]} yor are also invited')\n",
    "print(f'{dinner[2]} even you were invited but its to belive you are not coming')"
   ]
  },
  {
   "cell_type": "code",
   "execution_count": 77,
   "id": "09846852",
   "metadata": {},
   "outputs": [],
   "source": [
    "dinner[3-1] = 'noon'"
   ]
  },
  {
   "cell_type": "code",
   "execution_count": 80,
   "id": "6ec9f497",
   "metadata": {},
   "outputs": [
    {
     "name": "stdout",
     "output_type": "stream",
     "text": [
      "Hello me you are invited for the dinner\n",
      "Hello myself yor are also invited\n",
      "noon you are invited i cant belive you are  coming\n"
     ]
    }
   ],
   "source": [
    "print(f'Hello {dinner[0]} you are invited for the dinner')\n",
    "print(f'Hello {dinner[1]} yor are also invited')\n",
    "print(f'{dinner[2]} you are invited i cant belive you are  coming')"
   ]
  },
  {
   "cell_type": "code",
   "execution_count": 79,
   "id": "1ae69dca",
   "metadata": {},
   "outputs": [
    {
     "ename": "SyntaxError",
     "evalue": "invalid syntax (<ipython-input-79-8f1de28d6c88>, line 1)",
     "output_type": "error",
     "traceback": [
      "\u001b[1;36m  File \u001b[1;32m\"<ipython-input-79-8f1de28d6c88>\"\u001b[1;36m, line \u001b[1;32m1\u001b[0m\n\u001b[1;33m    3-6. More Guests: You just found a bigger dinner table, so now more space is\u001b[0m\n\u001b[1;37m         ^\u001b[0m\n\u001b[1;31mSyntaxError\u001b[0m\u001b[1;31m:\u001b[0m invalid syntax\n"
     ]
    }
   ],
   "source": [
    "3-6. More Guests: You just found a bigger dinner table, so now more space is\n",
    "available. Think of three more guests to invite to dinner.\n",
    "•\t Start with your program from Exercise 3-4 or Exercise 3-5. Add a print()\n",
    "call to the end of your program informing people that you found a bigger\n",
    "dinner table.\n",
    "•\t Use insert() to add one new guest to the beginning of your list.\n",
    "•\t Use insert() to add one new guest to the middle of your list.\n",
    "•\t Use append() to add one new guest to the end of your list.\n",
    "•\t Print a new set of invitation messages, one for each person in your list.\n"
   ]
  },
  {
   "cell_type": "code",
   "execution_count": null,
   "id": "d4845071",
   "metadata": {},
   "outputs": [],
   "source": [
    "3-6. More Guests: You just found a bigger dinner table, so now more space is\n",
    "available. Think of three more guests to invite to dinner.\n",
    "•\t Start with your program from Exercise 3-4 or Exercise 3-5. Add a print()\n",
    "call to the end of your program informing people that you found a bigger\n",
    "dinner table.\n",
    "•\t Use insert() to add one new guest to the beginning of your list.\n",
    "•\t Use insert() to add one new guest to the middle of your list.\n",
    "•\t Use append() to add one new guest to the end of your list.\n",
    "•\t Print a new set of invitation messages, one for each person in your list.\n",
    "\n"
   ]
  },
  {
   "cell_type": "code",
   "execution_count": 151,
   "id": "889c8fdc",
   "metadata": {},
   "outputs": [],
   "source": [
    "d_table = ['Faiz' , 'kaushal','raju' ,'suraj']"
   ]
  },
  {
   "cell_type": "code",
   "execution_count": 154,
   "id": "5475d7b4",
   "metadata": {},
   "outputs": [],
   "source": [
    "del d_table[2]"
   ]
  },
  {
   "cell_type": "code",
   "execution_count": 155,
   "id": "5acb78e5",
   "metadata": {},
   "outputs": [
    {
     "data": {
      "text/plain": [
       "['Faiz', 'kaushal']"
      ]
     },
     "execution_count": 155,
     "metadata": {},
     "output_type": "execute_result"
    }
   ],
   "source": [
    "d_table"
   ]
  },
  {
   "cell_type": "code",
   "execution_count": 159,
   "id": "3a58a715",
   "metadata": {},
   "outputs": [
    {
     "ename": "IndexError",
     "evalue": "list index out of range",
     "output_type": "error",
     "traceback": [
      "\u001b[1;31m---------------------------------------------------------------------------\u001b[0m",
      "\u001b[1;31mIndexError\u001b[0m                                Traceback (most recent call last)",
      "\u001b[1;32m<ipython-input-159-9d5a4facbb6e>\u001b[0m in \u001b[0;36m<module>\u001b[1;34m\u001b[0m\n\u001b[1;32m----> 1\u001b[1;33m \u001b[0mprint\u001b[0m\u001b[1;33m(\u001b[0m\u001b[1;34mf'Yes {d_table[1]} is still one of the invited'\u001b[0m\u001b[1;33m)\u001b[0m\u001b[1;33m\u001b[0m\u001b[1;33m\u001b[0m\u001b[0m\n\u001b[0m",
      "\u001b[1;31mIndexError\u001b[0m: list index out of range"
     ]
    }
   ],
   "source": [
    "print(f'Yes {d_table[1]} is still one of the invited')"
   ]
  },
  {
   "cell_type": "code",
   "execution_count": 160,
   "id": "5a87213e",
   "metadata": {},
   "outputs": [],
   "source": [
    "del d_table[0]"
   ]
  },
  {
   "cell_type": "code",
   "execution_count": 161,
   "id": "fccc0b97",
   "metadata": {},
   "outputs": [
    {
     "data": {
      "text/plain": [
       "[]"
      ]
     },
     "execution_count": 161,
     "metadata": {},
     "output_type": "execute_result"
    }
   ],
   "source": [
    "d_table"
   ]
  },
  {
   "cell_type": "code",
   "execution_count": 162,
   "id": "2f8a4435",
   "metadata": {},
   "outputs": [],
   "source": [
    "cars = ['Subvaru' , 'lembo' ,'scorp','hello']"
   ]
  },
  {
   "cell_type": "code",
   "execution_count": 166,
   "id": "4be5b66a",
   "metadata": {},
   "outputs": [],
   "source": [
    "cars.sort(reverse = True)"
   ]
  },
  {
   "cell_type": "code",
   "execution_count": 167,
   "id": "52e48cfe",
   "metadata": {},
   "outputs": [],
   "source": [
    "x = cars\n"
   ]
  },
  {
   "cell_type": "code",
   "execution_count": 168,
   "id": "30c84852",
   "metadata": {},
   "outputs": [
    {
     "data": {
      "text/plain": [
       "['scorp', 'lembo', 'hello', 'Subvaru']"
      ]
     },
     "execution_count": 168,
     "metadata": {},
     "output_type": "execute_result"
    }
   ],
   "source": [
    "x"
   ]
  },
  {
   "cell_type": "code",
   "execution_count": 171,
   "id": "01a938e7",
   "metadata": {},
   "outputs": [],
   "source": [
    "y = cars.sort()"
   ]
  },
  {
   "cell_type": "code",
   "execution_count": 174,
   "id": "37a9cdfa",
   "metadata": {},
   "outputs": [
    {
     "name": "stdout",
     "output_type": "stream",
     "text": [
      "['Subvaru', 'hello', 'lembo', 'scorp']\n"
     ]
    }
   ],
   "source": [
    "print(cars)"
   ]
  },
  {
   "cell_type": "code",
   "execution_count": 175,
   "id": "c63b3e87",
   "metadata": {},
   "outputs": [
    {
     "data": {
      "text/plain": [
       "['Subvaru', 'hello', 'lembo', 'scorp']"
      ]
     },
     "execution_count": 175,
     "metadata": {},
     "output_type": "execute_result"
    }
   ],
   "source": [
    "x"
   ]
  },
  {
   "cell_type": "code",
   "execution_count": 201,
   "id": "b4c7c83b",
   "metadata": {},
   "outputs": [
    {
     "data": {
      "text/plain": [
       "['scorp', 'lembo', 'hello', 'Subvaru']"
      ]
     },
     "execution_count": 201,
     "metadata": {},
     "output_type": "execute_result"
    }
   ],
   "source": [
    "\n",
    "\n",
    "\n",
    "\n",
    "\n",
    "\n",
    "cars"
   ]
  },
  {
   "cell_type": "code",
   "execution_count": 202,
   "id": "17532261",
   "metadata": {},
   "outputs": [
    {
     "ename": "NameError",
     "evalue": "name 'reverse' is not defined",
     "output_type": "error",
     "traceback": [
      "\u001b[1;31m---------------------------------------------------------------------------\u001b[0m",
      "\u001b[1;31mNameError\u001b[0m                                 Traceback (most recent call last)",
      "\u001b[1;32m<ipython-input-202-1523f4a9e5be>\u001b[0m in \u001b[0;36m<module>\u001b[1;34m\u001b[0m\n\u001b[1;32m----> 1\u001b[1;33m \u001b[0mx\u001b[0m \u001b[1;33m=\u001b[0m \u001b[0mreverse\u001b[0m\u001b[1;33m.\u001b[0m\u001b[0msort\u001b[0m\u001b[1;33m\u001b[0m\u001b[1;33m\u001b[0m\u001b[0m\n\u001b[0m",
      "\u001b[1;31mNameError\u001b[0m: name 'reverse' is not defined"
     ]
    }
   ],
   "source": [
    "x = reverse.sort"
   ]
  },
  {
   "cell_type": "code",
   "execution_count": 203,
   "id": "5872e528",
   "metadata": {},
   "outputs": [
    {
     "name": "stdout",
     "output_type": "stream",
     "text": [
      "Here is the original list:\n",
      "None\n",
      "\n",
      "Here is the sorted list:\n",
      "['Subvaru', 'hello', 'lembo', 'scorp']\n"
     ]
    }
   ],
   "source": [
    "print(\"Here is the original list:\")\n",
    "print(cars.sort(reverse = True))\n",
    "\n",
    "sorted(cars)\n",
    "print(\"\\nHere is the sorted list:\")\n",
    "print(sorted(cars))"
   ]
  },
  {
   "cell_type": "code",
   "execution_count": 204,
   "id": "c0be0411",
   "metadata": {},
   "outputs": [
    {
     "data": {
      "text/plain": [
       "['scorp', 'lembo', 'hello', 'Subvaru']"
      ]
     },
     "execution_count": 204,
     "metadata": {},
     "output_type": "execute_result"
    }
   ],
   "source": [
    "cars\n"
   ]
  },
  {
   "cell_type": "code",
   "execution_count": 205,
   "id": "7649ef3f",
   "metadata": {},
   "outputs": [],
   "source": [
    "cars.reverse()"
   ]
  },
  {
   "cell_type": "code",
   "execution_count": 207,
   "id": "716947a9",
   "metadata": {},
   "outputs": [
    {
     "data": {
      "text/plain": [
       "['Subvaru', 'hello', 'lembo', 'scorp']"
      ]
     },
     "execution_count": 207,
     "metadata": {},
     "output_type": "execute_result"
    }
   ],
   "source": [
    "3-8. Seeing the World: Think of at least five places in the world you’d like to\n",
    "visit.\n",
    "•\t Store the locations in a list. Make sure the list is not in alphabetical order.\n",
    "•\t Print your list in its original order. Don’t worry about printing the list neatly,\n",
    "just print it as a raw Python list.\n",
    "•\t Use sorted() to print your list in alphabetical order without modifying the\n",
    "actual list.\n",
    "•\t Show that your list is still in its original order by printing it.\n",
    "•\t Use sorted() to print your list in reverse alphabetical order without\n",
    "changing the order of the original list.\n",
    "•\t Show that your list is still in its original order by printing it again.\n",
    "•\t Use reverse() to change the order of your list. Print the list to show that its\n",
    "order has changed."
   ]
  },
  {
   "cell_type": "code",
   "execution_count": 208,
   "id": "888922c4",
   "metadata": {},
   "outputs": [],
   "source": [
    "places_2_visit = ['NYC' , 'France' , 'Germany' , 'Gaya' , 'Bihar']"
   ]
  },
  {
   "cell_type": "code",
   "execution_count": 209,
   "id": "bedb2904",
   "metadata": {},
   "outputs": [
    {
     "data": {
      "text/plain": [
       "['NYC', 'France', 'Germany', 'Gaya', 'Bihar']"
      ]
     },
     "execution_count": 209,
     "metadata": {},
     "output_type": "execute_result"
    }
   ],
   "source": [
    "places_2_visit"
   ]
  },
  {
   "cell_type": "code",
   "execution_count": 212,
   "id": "a8fd62ee",
   "metadata": {},
   "outputs": [
    {
     "data": {
      "text/plain": [
       "['Bihar', 'France', 'Gaya', 'Germany', 'NYC']"
      ]
     },
     "execution_count": 212,
     "metadata": {},
     "output_type": "execute_result"
    }
   ],
   "source": [
    "sorted(places_2_visit)"
   ]
  },
  {
   "cell_type": "code",
   "execution_count": 213,
   "id": "4c30d176",
   "metadata": {},
   "outputs": [
    {
     "data": {
      "text/plain": [
       "['NYC', 'France', 'Germany', 'Gaya', 'Bihar']"
      ]
     },
     "execution_count": 213,
     "metadata": {},
     "output_type": "execute_result"
    }
   ],
   "source": [
    "places_2_visit"
   ]
  },
  {
   "cell_type": "code",
   "execution_count": 214,
   "id": "732dc9aa",
   "metadata": {},
   "outputs": [
    {
     "data": {
      "text/plain": [
       "['NYC', 'Germany', 'Gaya', 'France', 'Bihar']"
      ]
     },
     "execution_count": 214,
     "metadata": {},
     "output_type": "execute_result"
    }
   ],
   "source": [
    "sorted(places_2_visit,reverse = True)"
   ]
  },
  {
   "cell_type": "code",
   "execution_count": 215,
   "id": "38ef258e",
   "metadata": {},
   "outputs": [
    {
     "data": {
      "text/plain": [
       "['NYC', 'France', 'Germany', 'Gaya', 'Bihar']"
      ]
     },
     "execution_count": 215,
     "metadata": {},
     "output_type": "execute_result"
    }
   ],
   "source": [
    "places_2_visit"
   ]
  },
  {
   "cell_type": "code",
   "execution_count": 220,
   "id": "ef9e0ce4",
   "metadata": {},
   "outputs": [],
   "source": [
    "places_2_visit.reverse()"
   ]
  },
  {
   "cell_type": "code",
   "execution_count": 221,
   "id": "bf3bd726",
   "metadata": {},
   "outputs": [
    {
     "data": {
      "text/plain": [
       "['Bihar', 'Gaya', 'Germany', 'France', 'NYC']"
      ]
     },
     "execution_count": 221,
     "metadata": {},
     "output_type": "execute_result"
    }
   ],
   "source": [
    "places_2_visit"
   ]
  },
  {
   "cell_type": "code",
   "execution_count": 224,
   "id": "298c80fe",
   "metadata": {},
   "outputs": [],
   "source": [
    "(places_2_visit.reverse())"
   ]
  },
  {
   "cell_type": "code",
   "execution_count": 225,
   "id": "e245a0bc",
   "metadata": {},
   "outputs": [
    {
     "data": {
      "text/plain": [
       "['NYC', 'France', 'Germany', 'Gaya', 'Bihar']"
      ]
     },
     "execution_count": 225,
     "metadata": {},
     "output_type": "execute_result"
    }
   ],
   "source": [
    "places_2_visit"
   ]
  },
  {
   "cell_type": "code",
   "execution_count": null,
   "id": "751e707a",
   "metadata": {},
   "outputs": [],
   "source": [
    "Use reverse() to change the order of your list again. Print the list to show\n",
    "it’s back to its original order.\n",
    "•\t Use sort() to change your list so it’s stored in alphabetical order. Print the\n",
    "list to show that its order has been changed.\n",
    "•\t Use sort() to change your list so it’s stored in reverse alphabetical order.\n",
    "Print the list to show that its order has changed.\n",
    "3-9. Dinner Guests: Working with one of the programs from Exercises 3-4\n",
    "through 3-7 (page 42), use len() to print a message indicating the number\n",
    "of people you are inviting to dinner.\n",
    "3-10. Every Function: Think of something you could store in a list. For example,\n",
    "you could make a list of mountains, rivers, countries, cities, languages, or anything else you’d like. Write a program that creates a list containing these items\n",
    "and then uses each function introduced in this chapter at least once."
   ]
  },
  {
   "cell_type": "code",
   "execution_count": 226,
   "id": "7ea30267",
   "metadata": {},
   "outputs": [
    {
     "data": {
      "text/plain": [
       "['NYC', 'France', 'Germany', 'Gaya', 'Bihar']"
      ]
     },
     "execution_count": 226,
     "metadata": {},
     "output_type": "execute_result"
    }
   ],
   "source": [
    "places_2_visit"
   ]
  },
  {
   "cell_type": "code",
   "execution_count": 228,
   "id": "02a24af4",
   "metadata": {},
   "outputs": [],
   "source": [
    "places_2_visit.sort(reverse = True)"
   ]
  },
  {
   "cell_type": "code",
   "execution_count": 229,
   "id": "c9aba260",
   "metadata": {},
   "outputs": [
    {
     "data": {
      "text/plain": [
       "['NYC', 'Germany', 'Gaya', 'France', 'Bihar']"
      ]
     },
     "execution_count": 229,
     "metadata": {},
     "output_type": "execute_result"
    }
   ],
   "source": [
    "places_2_visit"
   ]
  },
  {
   "cell_type": "code",
   "execution_count": null,
   "id": "a9a2f45d",
   "metadata": {},
   "outputs": [],
   "source": [
    "3-9. Dinner Guests: Working with one of the programs from Exercises 3-4\n",
    "through 3-7 (page 42), use len() to print a message indicating the number\n",
    "of people you are inviting to dinner.\n",
    "3-10. Every Function: Think of something you could store in a list. For example,\n",
    "you could make a list of mountains, rivers, countries, cities, languages, or anything else you’d like.\n",
    "Write a program that creates a list containing these items\n",
    "and then uses each function introduced in this chapter at least once."
   ]
  },
  {
   "cell_type": "code",
   "execution_count": 230,
   "id": "c7a58382",
   "metadata": {},
   "outputs": [],
   "source": [
    "guests = ['Rah' , 'ul' , 'sur' , 'Aq']"
   ]
  },
  {
   "cell_type": "code",
   "execution_count": 231,
   "id": "49170dcf",
   "metadata": {},
   "outputs": [
    {
     "data": {
      "text/plain": [
       "4"
      ]
     },
     "execution_count": 231,
     "metadata": {},
     "output_type": "execute_result"
    }
   ],
   "source": [
    "len(guests)"
   ]
  },
  {
   "cell_type": "code",
   "execution_count": 232,
   "id": "b88ecd2c",
   "metadata": {},
   "outputs": [
    {
     "name": "stdout",
     "output_type": "stream",
     "text": [
      "There are 4 people's are invited\n"
     ]
    }
   ],
   "source": [
    "print(f\"There are {len(guests)} people's are invited\")"
   ]
  },
  {
   "cell_type": "code",
   "execution_count": null,
   "id": "9e6a440a",
   "metadata": {},
   "outputs": [],
   "source": [
    "for x in range(0,10000000):\n",
    "    x= list[print('x')]"
   ]
  },
  {
   "cell_type": "code",
   "execution_count": 3,
   "id": "2128e73f",
   "metadata": {},
   "outputs": [],
   "source": [
    "import car"
   ]
  },
  {
   "cell_type": "code",
   "execution_count": 4,
   "id": "7535dcab",
   "metadata": {},
   "outputs": [],
   "source": [
    "import new_car"
   ]
  },
  {
   "cell_type": "code",
   "execution_count": 6,
   "id": "9c0db09d",
   "metadata": {},
   "outputs": [],
   "source": [
    "from new_car import Car,Battery,ElectricCar"
   ]
  },
  {
   "cell_type": "code",
   "execution_count": null,
   "id": "0c96cc0d",
   "metadata": {},
   "outputs": [],
   "source": []
  }
 ],
 "metadata": {
  "kernelspec": {
   "display_name": "Python 3",
   "language": "python",
   "name": "python3"
  },
  "language_info": {
   "codemirror_mode": {
    "name": "ipython",
    "version": 3
   },
   "file_extension": ".py",
   "mimetype": "text/x-python",
   "name": "python",
   "nbconvert_exporter": "python",
   "pygments_lexer": "ipython3",
   "version": "3.8.8"
  }
 },
 "nbformat": 4,
 "nbformat_minor": 5
}
